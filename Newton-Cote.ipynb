{
 "cells": [
  {
   "cell_type": "code",
   "execution_count": 210,
   "id": "eb0de310-e326-408c-ac1c-e594bc31f18c",
   "metadata": {},
   "outputs": [],
   "source": [
    "import numpy as np\n",
    "import matplotlib.pyplot as plt"
   ]
  },
  {
   "cell_type": "markdown",
   "id": "54ed0cd8-053f-40fc-884f-19b447d6b743",
   "metadata": {},
   "source": [
    "Trapezoidal"
   ]
  },
  {
   "cell_type": "code",
   "execution_count": 213,
   "id": "eb961c6d-e1a3-4d40-90f0-115b9e4e5149",
   "metadata": {},
   "outputs": [],
   "source": [
    "def f(x):\n",
    "    return 2 * x"
   ]
  },
  {
   "cell_type": "code",
   "execution_count": 215,
   "id": "4d75b7cd-1bea-4405-8cae-d3febb93ebc9",
   "metadata": {},
   "outputs": [],
   "source": [
    "def trap(a, b, n):\n",
    "    h = (b-a)/10\n",
    "    p = np.linspace(a+h, b-h, n-1)\n",
    "    h = (b-a)/10\n",
    "    result = (f(a) + f(b) + 2 * sum(f(a) for a in p)) * h/2\n",
    "    print(result)\n",
    "    return result, p"
   ]
  },
  {
   "cell_type": "code",
   "execution_count": 217,
   "id": "5b42b77e-7252-4bf1-b46e-7e3d8126b8ba",
   "metadata": {},
   "outputs": [
    {
     "name": "stdout",
     "output_type": "stream",
     "text": [
      "4.000000000000001\n"
     ]
    }
   ],
   "source": [
    "a, b, n = 0, 2, 10\n",
    "r, p =trap(a, b, n)"
   ]
  },
  {
   "cell_type": "code",
   "execution_count": 219,
   "id": "c4c70938-d8f4-49f2-a1e9-aba1ccc1fc15",
   "metadata": {},
   "outputs": [],
   "source": [
    "x = np.linspace(a, b, 1000)\n",
    "y = [f(a) for a in x]\n",
    "pp = [f(a) for a in p]"
   ]
  },
  {
   "cell_type": "code",
   "execution_count": 221,
   "id": "5edc80a0-13dc-4d66-a152-ca137e608e54",
   "metadata": {},
   "outputs": [
    {
     "data": {
      "text/plain": [
       "<matplotlib.collections.LineCollection at 0x7a45a1e3fc20>"
      ]
     },
     "execution_count": 221,
     "metadata": {},
     "output_type": "execute_result"
    },
    {
     "data": {
      "image/png": "[encoded data removed]",
      "text/plain": [
       "<Figure size 640x480 with 1 Axes>"
      ]
     },
     "metadata": {},
     "output_type": "display_data"
    }
   ],
   "source": [
    "plt.plot(x, y)\n",
    "plt.plot(p, pp, 'o')\n",
    "plt.axhline(0)\n",
    "plt.vlines(p, 0, pp, color = 'green', )"
   ]
  },
  {
   "cell_type": "code",
   "execution_count": 222,
   "id": "4ac28c0c-9615-40f5-b3d5-17f94e14b75a",
   "metadata": {},
   "outputs": [
    {
     "data": {
      "text/plain": [
       "[np.float64(0.4),\n",
       " np.float64(0.8),\n",
       " np.float64(1.2000000000000002),\n",
       " np.float64(1.6),\n",
       " np.float64(2.0),\n",
       " np.float64(2.4),\n",
       " np.float64(2.8000000000000003),\n",
       " np.float64(3.2),\n",
       " np.float64(3.6)]"
      ]
     },
     "execution_count": 222,
     "metadata": {},
     "output_type": "execute_result"
    }
   ],
   "source": [
    "pp"
   ]
  },
  {
   "cell_type": "code",
   "execution_count": 225,
   "id": "41f73f3a-8f93-40b1-b241-1407199a8c36",
   "metadata": {},
   "outputs": [
    {
     "name": "stdout",
     "output_type": "stream",
     "text": [
      "Help on function vlines in module matplotlib.pyplot:\n",
      "\n",
      "vlines(x: 'float | ArrayLike', ymin: 'float | ArrayLike', ymax: 'float | ArrayLike', colors: 'ColorType | Sequence[ColorType] | None' = None, linestyles: 'LineStyleType' = 'solid', *, label: 'str' = '', data=None, **kwargs) -> 'LineCollection'\n",
      "    Plot vertical lines at each *x* from *ymin* to *ymax*.\n",
      "\n",
      "    Parameters\n",
      "    ----------\n",
      "    x : float or array-like\n",
      "        x-indexes where to plot the lines.\n",
      "\n",
      "    ymin, ymax : float or array-like\n",
      "        Respective beginning and end of each line. If scalars are\n",
      "        provided, all lines will have the same length.\n",
      "\n",
      "    colors : :mpltype:`color` or list of color, default: :rc:`lines.color`\n",
      "\n",
      "    linestyles : {'solid', 'dashed', 'dashdot', 'dotted'}, default: 'solid'\n",
      "\n",
      "    label : str, default: ''\n",
      "\n",
      "    Returns\n",
      "    -------\n",
      "    `~matplotlib.collections.LineCollection`\n",
      "\n",
      "    Other Parameters\n",
      "    ----------------\n",
      "    data : indexable object, optional\n",
      "        If given, the following parameters also accept a string ``s``, which is\n",
      "        interpreted as ``data[s]`` if ``s`` is a key in ``data``:\n",
      "\n",
      "        *x*, *ymin*, *ymax*, *colors*\n",
      "    **kwargs : `~matplotlib.collections.LineCollection` properties.\n",
      "\n",
      "    See Also\n",
      "    --------\n",
      "    hlines : horizontal lines\n",
      "    axvline : vertical line across the Axes\n",
      "\n",
      "    Notes\n",
      "    -----\n",
      "\n",
      "    .. note::\n",
      "\n",
      "        This is the :ref:`pyplot wrapper <pyplot_interface>` for `.axes.Axes.vlines`.\n",
      "\n"
     ]
    }
   ],
   "source": [
    "help(plt.vlines)"
   ]
  },
  {
   "cell_type": "markdown",
   "id": "f6efc41f-bd35-466d-b22a-f87d77b168f9",
   "metadata": {},
   "source": [
    "Simpsons 1/3"
   ]
  },
  {
   "cell_type": "code",
   "execution_count": 356,
   "id": "017e0e64-cf1f-4373-a70c-a8572bfdd727",
   "metadata": {},
   "outputs": [],
   "source": [
    "def f(x):\n",
    "    return 2 * x"
   ]
  },
  {
   "cell_type": "code",
   "execution_count": 358,
   "id": "1a149e47-921a-45fb-8349-8d35e92e3897",
   "metadata": {},
   "outputs": [],
   "source": [
    "def simpsons13(a, b, n):\n",
    "    m = np.array([1, 4, 1])\n",
    "    h = (b-a)/n\n",
    "    val = 0\n",
    "    for i in range(0, n, 2):\n",
    "        # print(a, i, h)\n",
    "        x1 = np.linspace(a + i * h , a + (i + 2) * h , 3)\n",
    "        y1 = [f(a) for a in x1]\n",
    "        # print(x1, m)\n",
    "        val += np.dot(y1, m) * h/3\n",
    "    return val"
   ]
  },
  {
   "cell_type": "code",
   "execution_count": 360,
   "id": "3c5c7c82-eeaf-45ba-a031-8a02456dd77e",
   "metadata": {},
   "outputs": [
    {
     "data": {
      "text/plain": [
       "np.float64(9.86960440108936)"
      ]
     },
     "execution_count": 360,
     "metadata": {},
     "output_type": "execute_result"
    }
   ],
   "source": [
    "a, b, n = 0, np.pi, 100\n",
    "simpsons13(a, b, n)"
   ]
  },
  {
   "cell_type": "code",
   "execution_count": 362,
   "id": "8cae5183-49bf-462a-8843-53d49788cc25",
   "metadata": {},
   "outputs": [],
   "source": [
    "def simpsons38(a, b, n):\n",
    "    m = np.array([1, 3, 3, 1])\n",
    "    h = (b-a)/n\n",
    "    val = 0\n",
    "    for i in range(0, n, 3):\n",
    "        # print(a, i, h)\n",
    "        x1 = np.linspace(a + i * h , a + (i + 3) * h , 4)\n",
    "        y1 = [f(a) for a in x1]\n",
    "        # print(x1, m)\n",
    "        val += np.dot(y1, m) * 3 *h/8\n",
    "    return val"
   ]
  },
  {
   "cell_type": "code",
   "execution_count": 364,
   "id": "7fb6cbdf-ddf3-47a5-811a-3c8c6ca2ecc3",
   "metadata": {},
   "outputs": [
    {
     "data": {
      "text/plain": [
       "np.float64(4.016016)"
      ]
     },
     "execution_count": 364,
     "metadata": {},
     "output_type": "execute_result"
    }
   ],
   "source": [
    "a, b, n = 0, 2, 1000\n",
    "simpsons38(a, b, n)"
   ]
  },
  {
   "cell_type": "code",
   "execution_count": 378,
   "id": "328d79e0-4efb-4b7d-a7a5-d2aebdca6a18",
   "metadata": {},
   "outputs": [],
   "source": [
    "def gauss(a, b):\n",
    "\n",
    "    w = np.array([1, 1])\n",
    "    x = np.array([-1/np.sqrt(3), 1/np.sqrt(3)])\n",
    "    p, q = (b - a)/2, (b + a)/2\n",
    "    print(p, x)\n",
    "    z = p * x + q\n",
    "    return np.dot(w, f(z)) * p\n",
    "    "
   ]
  },
  {
   "cell_type": "code",
   "execution_count": 380,
   "id": "a52d0428-eb9d-4218-a2c0-c06492bcc104",
   "metadata": {},
   "outputs": [
    {
     "name": "stdout",
     "output_type": "stream",
     "text": [
      "1.0 [-0.57735027  0.57735027]\n"
     ]
    },
    {
     "data": {
      "text/plain": [
       "np.float64(4.0)"
      ]
     },
     "execution_count": 380,
     "metadata": {},
     "output_type": "execute_result"
    }
   ],
   "source": [
    "a, b = 0, 2\n",
    "gauss(a, b)"
   ]
  },
  {
   "cell_type": "code",
   "execution_count": 386,
   "id": "e6d57a1e-2098-406f-80ad-8e0735f8fbc2",
   "metadata": {},
   "outputs": [],
   "source": [
    "def gauss(a, b):\n",
    "\n",
    "    w = np.array([5/9, 8/9, 5/9])\n",
    "    x = np.array([-np.sqrt(3/5), 0, np.sqrt(3/5)])\n",
    "    p, q = (b - a)/2, (b + a)/2\n",
    "    print(p, x)\n",
    "    z = p * x + q\n",
    "    return np.dot(w, f(z)) * p\n",
    "    "
   ]
  },
  {
   "cell_type": "code",
   "execution_count": 388,
   "id": "71121499-83c8-429b-aac2-927306ad1b67",
   "metadata": {},
   "outputs": [
    {
     "name": "stdout",
     "output_type": "stream",
     "text": [
      "1.0 [-0.77459667  0.          0.77459667]\n"
     ]
    },
    {
     "data": {
      "text/plain": [
       "np.float64(4.0)"
      ]
     },
     "execution_count": 388,
     "metadata": {},
     "output_type": "execute_result"
    }
   ],
   "source": [
    "a, b = 0, 2\n",
    "gauss(a, b)"
   ]
  },
  {
   "cell_type": "code",
   "execution_count": null,
   "id": "18aa7664-4be9-4bb5-a6f5-378cbce41413",
   "metadata": {},
   "outputs": [],
   "source": []
  }
 ],
 "metadata": {
  "kernelspec": {
   "display_name": "Python 3 (ipykernel)",
   "language": "python",
   "name": "python3"
  },
  "language_info": {
   "codemirror_mode": {
    "name": "ipython",
    "version": 3
   },
   "file_extension": ".py",
   "mimetype": "text/x-python",
   "name": "python",
   "nbconvert_exporter": "python",
   "pygments_lexer": "ipython3",
   "version": "3.12.2"
  }
 },
 "nbformat": 4,
 "nbformat_minor": 5
}
