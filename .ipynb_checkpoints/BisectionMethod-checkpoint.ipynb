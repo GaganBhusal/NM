{
 "cells": [
  {
   "cell_type": "code",
   "execution_count": 41,
   "id": "55c57334-6e73-41c1-a89c-0f687b15383b",
   "metadata": {},
   "outputs": [],
   "source": [
    "a = 2"
   ]
  },
  {
   "cell_type": "code",
   "execution_count": 51,
   "id": "4834cfa1-c278-4843-b7a6-da9ba1985ac8",
   "metadata": {},
   "outputs": [],
   "source": [
    "b = 2.0"
   ]
  },
  {
   "cell_type": "code",
   "execution_count": 53,
   "id": "1d4977b6-68ea-44bf-8894-9be26a7cdd86",
   "metadata": {},
   "outputs": [],
   "source": [
    "str1 = \"Pulchowk \""
   ]
  },
  {
   "cell_type": "code",
   "execution_count": 55,
   "id": "5d9f3ece-e2dc-4e4b-b74e-3b7ce85ed642",
   "metadata": {},
   "outputs": [
    {
     "name": "stdout",
     "output_type": "stream",
     "text": [
      "Pulchowk \n"
     ]
    }
   ],
   "source": [
    "print(str1)"
   ]
  },
  {
   "cell_type": "code",
   "execution_count": 57,
   "id": "44b795b0-65ca-4aba-8f38-6b9d1661c8c0",
   "metadata": {},
   "outputs": [],
   "source": [
    "Flag = True"
   ]
  },
  {
   "cell_type": "code",
   "execution_count": 59,
   "id": "5956bf16-b245-4425-aadd-fb0384b563e7",
   "metadata": {},
   "outputs": [
    {
     "name": "stdout",
     "output_type": "stream",
     "text": [
      "4.0\n"
     ]
    }
   ],
   "source": [
    "print(a + b)"
   ]
  },
  {
   "cell_type": "code",
   "execution_count": 61,
   "id": "4fe01171-b8ef-4710-9b67-06c1cbef267e",
   "metadata": {},
   "outputs": [],
   "source": [
    "str2 = \"Campus\""
   ]
  },
  {
   "cell_type": "code",
   "execution_count": 63,
   "id": "34d54538-ab3f-4185-80b7-02187df7f540",
   "metadata": {},
   "outputs": [
    {
     "name": "stdout",
     "output_type": "stream",
     "text": [
      "Pulchowk Campus\n"
     ]
    }
   ],
   "source": [
    "print(str1 + str2)"
   ]
  },
  {
   "cell_type": "code",
   "execution_count": 65,
   "id": "a9f9c58e-3153-41d5-ae9a-c561c5098ae6",
   "metadata": {},
   "outputs": [],
   "source": [
    "myList  =[0, 1, 2, 3]"
   ]
  },
  {
   "cell_type": "code",
   "execution_count": 69,
   "id": "457bbe97-29e4-4cf6-893a-647cb044f6a7",
   "metadata": {},
   "outputs": [
    {
     "name": "stdout",
     "output_type": "stream",
     "text": [
      "0\n"
     ]
    }
   ],
   "source": [
    "print(myList[0])"
   ]
  },
  {
   "cell_type": "code",
   "execution_count": 71,
   "id": "cbda54a2-268e-495c-a10a-a4d3e2c27b70",
   "metadata": {},
   "outputs": [],
   "source": [
    "arr = [\n",
    "    [1, 2],\n",
    "    [2, 3]\n",
    "]"
   ]
  },
  {
   "cell_type": "code",
   "execution_count": 75,
   "id": "32488964-fa7b-4e34-8635-c20b5ecd7baa",
   "metadata": {},
   "outputs": [
    {
     "name": "stdout",
     "output_type": "stream",
     "text": [
      "[[1, 2], [2, 3]]\n"
     ]
    }
   ],
   "source": [
    "print(arr)"
   ]
  },
  {
   "cell_type": "code",
   "execution_count": 77,
   "id": "da436ca1-6fac-4128-831e-214be7c602d7",
   "metadata": {},
   "outputs": [],
   "source": [
    "import numpy as np"
   ]
  },
  {
   "cell_type": "code",
   "execution_count": 79,
   "id": "9a360eb8-d50c-4ef0-9122-7a42f472804b",
   "metadata": {},
   "outputs": [],
   "source": [
    "arr2 = np.array([\n",
    "    [1, 2], \n",
    "    [2, 3]\n",
    "])"
   ]
  },
  {
   "cell_type": "code",
   "execution_count": 83,
   "id": "fa1bff6c-d5d9-414f-89c8-ce49c02ac6f4",
   "metadata": {},
   "outputs": [
    {
     "data": {
      "text/plain": [
       "array([[1, 2],\n",
       "       [2, 3]])"
      ]
     },
     "execution_count": 83,
     "metadata": {},
     "output_type": "execute_result"
    }
   ],
   "source": [
    "arr2"
   ]
  },
  {
   "cell_type": "code",
   "execution_count": 85,
   "id": "eb68db46-b07b-4bfb-a221-5c1a6a89d87e",
   "metadata": {},
   "outputs": [],
   "source": [
    "seq = list(range(0, 10, 2))"
   ]
  },
  {
   "cell_type": "code",
   "execution_count": 87,
   "id": "05fe6a3f-09b6-491c-afc3-b03b49afe90d",
   "metadata": {},
   "outputs": [
    {
     "data": {
      "text/plain": [
       "[0, 2, 4, 6, 8]"
      ]
     },
     "execution_count": 87,
     "metadata": {},
     "output_type": "execute_result"
    }
   ],
   "source": [
    "seq"
   ]
  },
  {
   "cell_type": "markdown",
   "id": "84325772-4053-4870-b220-92e9b8e16aba",
   "metadata": {},
   "source": [
    "Loops"
   ]
  },
  {
   "cell_type": "code",
   "execution_count": 90,
   "id": "7b4c92d2-dea7-45fb-9bcf-9f17007c62cc",
   "metadata": {},
   "outputs": [
    {
     "name": "stdout",
     "output_type": "stream",
     "text": [
      "0\n",
      "2\n",
      "4\n",
      "6\n",
      "8\n"
     ]
    }
   ],
   "source": [
    "for i in seq:\n",
    "    print(i)"
   ]
  },
  {
   "cell_type": "code",
   "execution_count": 94,
   "id": "bb3a4c87-7ff7-4371-a369-fff60d3dfab1",
   "metadata": {},
   "outputs": [
    {
     "name": "stdout",
     "output_type": "stream",
     "text": [
      "1\n",
      "2\n",
      "2\n",
      "3\n"
     ]
    }
   ],
   "source": [
    "for i in arr:\n",
    "    for j in i:\n",
    "        print(j)"
   ]
  },
  {
   "cell_type": "code",
   "execution_count": 100,
   "id": "1a71f806-3d37-4cbc-9be2-5f202779bebe",
   "metadata": {},
   "outputs": [
    {
     "name": "stdout",
     "output_type": "stream",
     "text": [
      "0\n",
      "2\n",
      "4\n",
      "6\n",
      "8\n"
     ]
    }
   ],
   "source": [
    "for i in range(0, 10, 2):\n",
    "    print(i)"
   ]
  },
  {
   "cell_type": "code",
   "execution_count": 102,
   "id": "87296e92-0a12-408d-a9d1-f8785f690d2e",
   "metadata": {},
   "outputs": [
    {
     "name": "stdin",
     "output_type": "stream",
     "text": [
      "Enter a number 4\n"
     ]
    }
   ],
   "source": [
    "x = int(input(\"Enter a number\"))"
   ]
  },
  {
   "cell_type": "code",
   "execution_count": 104,
   "id": "9fd05a87-faa9-46df-b91a-ce5b44ca445e",
   "metadata": {},
   "outputs": [
    {
     "name": "stdout",
     "output_type": "stream",
     "text": [
      "4\n"
     ]
    }
   ],
   "source": [
    "print(x)"
   ]
  },
  {
   "cell_type": "code",
   "execution_count": 106,
   "id": "048fc8cd-a509-4287-ac23-e61a256cc66d",
   "metadata": {},
   "outputs": [
    {
     "name": "stdin",
     "output_type": "stream",
     "text": [
      "Enter y :  9\n"
     ]
    }
   ],
   "source": [
    "y = float(input(\"Enter y : \"))"
   ]
  },
  {
   "cell_type": "code",
   "execution_count": 108,
   "id": "a9b5b860-6f84-4365-a41f-9f568a68414b",
   "metadata": {},
   "outputs": [
    {
     "name": "stdout",
     "output_type": "stream",
     "text": [
      "9.0\n"
     ]
    }
   ],
   "source": [
    "print(y)"
   ]
  },
  {
   "cell_type": "code",
   "execution_count": 110,
   "id": "f733bb57-c60a-4685-8f28-5bf9bf4465d5",
   "metadata": {},
   "outputs": [
    {
     "name": "stdout",
     "output_type": "stream",
     "text": [
      "Positive\n"
     ]
    }
   ],
   "source": [
    "if x > 0:\n",
    "    print(\"Positive\")\n",
    "elif x == 0:\n",
    "    print('Zero')\n",
    "else:\n",
    "    print(\"Negative\")"
   ]
  },
  {
   "cell_type": "code",
   "execution_count": 114,
   "id": "9d30e5d5-9e46-41c2-8436-f5da93b24056",
   "metadata": {},
   "outputs": [
    {
     "name": "stdout",
     "output_type": "stream",
     "text": [
      "0\n",
      "1\n",
      "2\n",
      "3\n",
      "4\n",
      "5\n",
      "6\n",
      "7\n",
      "8\n",
      "9\n"
     ]
    }
   ],
   "source": [
    "k = 0\n",
    "while k<10:\n",
    "    print(k)\n",
    "    k += 1"
   ]
  },
  {
   "cell_type": "code",
   "execution_count": 118,
   "id": "5202f4ce-8839-4d7e-82db-6a3d0e98419e",
   "metadata": {},
   "outputs": [],
   "source": [
    "def myFunc(x):\n",
    "    return 3*x + 5"
   ]
  },
  {
   "cell_type": "code",
   "execution_count": 120,
   "id": "ba18e389-35a4-4c7d-97e9-4cd99c20c410",
   "metadata": {},
   "outputs": [
    {
     "data": {
      "text/plain": [
       "17"
      ]
     },
     "execution_count": 120,
     "metadata": {},
     "output_type": "execute_result"
    }
   ],
   "source": [
    "myFunc(x)"
   ]
  },
  {
   "cell_type": "markdown",
   "id": "ed48e3c9-42a7-4ead-93ce-a36c0929e54d",
   "metadata": {},
   "source": [
    "<h2>Numpy Array</h2>"
   ]
  },
  {
   "cell_type": "code",
   "execution_count": 123,
   "id": "95a09568-9cd6-4f88-b7d9-99b78fca307d",
   "metadata": {},
   "outputs": [],
   "source": [
    "import numpy as np"
   ]
  },
  {
   "cell_type": "code",
   "execution_count": 125,
   "id": "b3251b5f-c3a4-4cef-8290-978785f9b9d2",
   "metadata": {},
   "outputs": [],
   "source": [
    "arr = np.array([\n",
    "    [1, 2],\n",
    "    [3, 4]\n",
    "])"
   ]
  },
  {
   "cell_type": "code",
   "execution_count": 127,
   "id": "d821d79c-8ca4-4234-9fe4-6438f3b690b7",
   "metadata": {},
   "outputs": [
    {
     "data": {
      "text/plain": [
       "array([[1, 2],\n",
       "       [3, 4]])"
      ]
     },
     "execution_count": 127,
     "metadata": {},
     "output_type": "execute_result"
    }
   ],
   "source": [
    "arr"
   ]
  },
  {
   "cell_type": "code",
   "execution_count": 129,
   "id": "8d4e577b-0e2f-4e82-a72a-4f01f5958906",
   "metadata": {},
   "outputs": [],
   "source": [
    "arr1 = np.array([\n",
    "    [5, 6],\n",
    "    [7, 8]\n",
    "])"
   ]
  },
  {
   "cell_type": "code",
   "execution_count": 133,
   "id": "734b8275-b656-476f-8510-7378d2528db9",
   "metadata": {},
   "outputs": [],
   "source": [
    "arr2 = arr + arr1"
   ]
  },
  {
   "cell_type": "code",
   "execution_count": 137,
   "id": "97f4e64a-c66e-4a51-beba-7eb275fdf7c3",
   "metadata": {},
   "outputs": [
    {
     "name": "stdout",
     "output_type": "stream",
     "text": [
      "Array first element : 6\n"
     ]
    }
   ],
   "source": [
    "print(f\"Array first element : {arr2[0][0]}\")"
   ]
  },
  {
   "cell_type": "code",
   "execution_count": 139,
   "id": "a30ddcca-224e-4d9c-aa5e-8b1954365b9c",
   "metadata": {},
   "outputs": [],
   "source": [
    "import matplotlib.pyplot as plt"
   ]
  },
  {
   "cell_type": "code",
   "execution_count": 152,
   "id": "324c6932-ca5f-4a31-8f6e-05202fa7056f",
   "metadata": {},
   "outputs": [],
   "source": [
    "x = np.arange(10)"
   ]
  },
  {
   "cell_type": "code",
   "execution_count": 156,
   "id": "34345aa1-1d4a-48c3-858b-6f20999460a8",
   "metadata": {},
   "outputs": [],
   "source": [
    "# plt.plot(x, x**3)"
   ]
  },
  {
   "cell_type": "code",
   "execution_count": 160,
   "id": "0248e220-94bb-4a52-b843-340880bdc6be",
   "metadata": {},
   "outputs": [
    {
     "name": "stdout",
     "output_type": "stream",
     "text": [
      "Exception is division by zero\n"
     ]
    }
   ],
   "source": [
    "b = 5\n",
    "try:\n",
    "    c = b/0\n",
    "except Exception as e:\n",
    "    print(f'Exception is {e}')"
   ]
  },
  {
   "cell_type": "code",
   "execution_count": 162,
   "id": "f86ff9f4-1a88-4553-b5dc-ad9cb1872bde",
   "metadata": {},
   "outputs": [
    {
     "data": {
      "text/plain": [
       "array([[5, 6],\n",
       "       [7, 8]])"
      ]
     },
     "execution_count": 162,
     "metadata": {},
     "output_type": "execute_result"
    }
   ],
   "source": [
    "arr1"
   ]
  },
  {
   "cell_type": "code",
   "execution_count": 164,
   "id": "fadbe683-6b64-4a4a-ada0-28a6beb2e12d",
   "metadata": {},
   "outputs": [
    {
     "data": {
      "text/plain": [
       "array([[5, 6],\n",
       "       [7, 8]])"
      ]
     },
     "execution_count": 164,
     "metadata": {},
     "output_type": "execute_result"
    }
   ],
   "source": [
    "arr1[:,:]"
   ]
  },
  {
   "cell_type": "code",
   "execution_count": 166,
   "id": "14b20b67-8fcd-4a7e-a3f1-393713a03998",
   "metadata": {},
   "outputs": [
    {
     "data": {
      "text/plain": [
       "array([5, 7])"
      ]
     },
     "execution_count": 166,
     "metadata": {},
     "output_type": "execute_result"
    }
   ],
   "source": [
    "arr1[:, 0]"
   ]
  },
  {
   "cell_type": "code",
   "execution_count": 168,
   "id": "a2a3a4a2-1b0d-4cff-b05b-3d5cae1f6380",
   "metadata": {},
   "outputs": [
    {
     "data": {
      "text/plain": [
       "array([[5, 6],\n",
       "       [7, 8]])"
      ]
     },
     "execution_count": 168,
     "metadata": {},
     "output_type": "execute_result"
    }
   ],
   "source": [
    "arr1[0:, :]"
   ]
  },
  {
   "cell_type": "markdown",
   "id": "2b4d6fc9-12de-45a8-b7d5-4db451db91fa",
   "metadata": {},
   "source": [
    "<h2>Bisection Method</h2>"
   ]
  },
  {
   "cell_type": "code",
   "execution_count": 173,
   "id": "388dc6b3-3e21-4d57-b3fc-a8a5ad598bad",
   "metadata": {},
   "outputs": [],
   "source": [
    "fx = "
   ]
  },
  {
   "cell_type": "code",
   "execution_count": 185,
   "id": "100ad687-ae7d-45e7-a594-e8c3856d761d",
   "metadata": {},
   "outputs": [],
   "source": [
    "def F(x):\n",
    "    return x **3 - 4*x - 9"
   ]
  },
  {
   "cell_type": "code",
   "execution_count": 244,
   "id": "12e2bf51-9293-49b8-816f-4d3f62024073",
   "metadata": {},
   "outputs": [
    {
     "name": "stdin",
     "output_type": "stream",
     "text": [
      "Enter x :  -8\n",
      "Enter y :  9\n"
     ]
    }
   ],
   "source": [
    "a = int(input(\"Enter x : \"))\n",
    "b = int(input(\"Enter y : \"))"
   ]
  },
  {
   "cell_type": "code",
   "execution_count": 266,
   "id": "be2b6d6e-3433-4342-aeed-b9f1fe4e1cd1",
   "metadata": {},
   "outputs": [],
   "source": [
    "def bisection(a, b, e):\n",
    "    error = []\n",
    "    i = 0\n",
    "    if F(a) * F(b) >0:\n",
    "        print(\"Error\")\n",
    "    else :\n",
    "        while abs(a - b) > e:\n",
    "            c = (a + b)/2\n",
    "            if F(c) * F(a) < 0:\n",
    "                b = c\n",
    "            else:\n",
    "                a = c\n",
    "            print(a-b)\n",
    "            error.append(a-b)\n",
    "            i += 1\n",
    "            max_iter = 2 * (np.log(b-a) - np.log(e)/np.log(2))\n",
    "            if max_iter<= i:\n",
    "                break\n",
    "    return ((a + b)/2, error)"
   ]
  },
  {
   "cell_type": "code",
   "execution_count": 268,
   "id": "79642170-f8a5-4ef0-8618-f7419db9fa28",
   "metadata": {},
   "outputs": [
    {
     "name": "stdout",
     "output_type": "stream",
     "text": [
      "-8.5\n",
      "-4.25\n",
      "-2.125\n",
      "-1.0625\n",
      "-0.53125\n",
      "-0.265625\n",
      "-0.1328125\n",
      "-0.06640625\n",
      "-0.033203125\n",
      "-0.0166015625\n",
      "-0.00830078125\n",
      "-0.004150390625\n",
      "-0.0020751953125\n",
      "-0.00103759765625\n",
      "-0.000518798828125\n",
      "-0.0002593994140625\n",
      "-0.00012969970703125\n",
      "-6.4849853515625e-05\n",
      "-3.24249267578125e-05\n",
      "-1.621246337890625e-05\n",
      "-8.106231689453125e-06\n",
      "-4.0531158447265625e-06\n",
      "-2.0265579223632812e-06\n",
      "-1.0132789611816406e-06\n",
      "-5.066394805908203e-07\n",
      "-2.5331974029541016e-07\n"
     ]
    }
   ],
   "source": [
    "root, error = bisection(a, b, 0.000000005)"
   ]
  },
  {
   "cell_type": "code",
   "execution_count": 270,
   "id": "089af344-880f-4d26-a16d-01381d350b29",
   "metadata": {},
   "outputs": [
    {
     "data": {
      "text/plain": [
       "-0.11699999999999733"
      ]
     },
     "execution_count": 270,
     "metadata": {},
     "output_type": "execute_result"
    }
   ],
   "source": [
    "F(2.7)"
   ]
  },
  {
   "cell_type": "code",
   "execution_count": 285,
   "id": "531b2a8d-efff-48f2-9724-e7c053b76911",
   "metadata": {},
   "outputs": [
    {
     "data": {
      "image/png": "[encoded data removed]",
      "text/plain": [
       "<Figure size 640x480 with 1 Axes>"
      ]
     },
     "metadata": {},
     "output_type": "display_data"
    }
   ],
   "source": [
    "plt.plot(range(len(error)), error, linestyle = '--')\n",
    "plt.scatter(range(len(error)), error, marker = '.')\n",
    "plt.grid()"
   ]
  },
  {
   "cell_type": "code",
   "execution_count": null,
   "id": "8978851a-f22d-47d6-8d2c-938a2986d560",
   "metadata": {},
   "outputs": [],
   "source": [
    "plt.scatter(range(len(error)), error)"
   ]
  },
  {
   "cell_type": "code",
   "execution_count": 291,
   "id": "634787d3-fa79-4459-bf88-67fbe3eac4bb",
   "metadata": {},
   "outputs": [],
   "source": [
    "x = np.linspace(2, 3, 100)\n",
    "y = [F(i) for i in x]"
   ]
  },
  {
   "cell_type": "code",
   "execution_count": 311,
   "id": "bbe4ccad-ae19-47ce-8f14-9bc23e85d803",
   "metadata": {},
   "outputs": [
    {
     "data": {
      "image/png": "[encoded data removed]",
      "text/plain": [
       "<Figure size 640x480 with 1 Axes>"
      ]
     },
     "metadata": {},
     "output_type": "display_data"
    }
   ],
   "source": [
    "plt.plot(x, y, linestyle = '--')\n",
    "plt.axhline(0)\n",
    "plt.plot(root, F(root), 'o')\n",
    "plt.axvline(root, linestyle = '-.')\n",
    "plt.grid()"
   ]
  },
  {
   "cell_type": "code",
   "execution_count": null,
   "id": "35e76185-d182-4b15-bcb6-156746a36cea",
   "metadata": {},
   "outputs": [],
   "source": []
  }
 ],
 "metadata": {
  "kernelspec": {
   "display_name": "Python 3 (ipykernel)",
   "language": "python",
   "name": "python3"
  },
  "language_info": {
   "codemirror_mode": {
    "name": "ipython",
    "version": 3
   },
   "file_extension": ".py",
   "mimetype": "text/x-python",
   "name": "python",
   "nbconvert_exporter": "python",
   "pygments_lexer": "ipython3",
   "version": "3.12.4"
  }
 },
 "nbformat": 4,
 "nbformat_minor": 5
}
